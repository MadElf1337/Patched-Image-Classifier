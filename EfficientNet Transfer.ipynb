{
 "cells": [
  {
   "cell_type": "code",
   "execution_count": 1,
   "id": "93dca0b9",
   "metadata": {
    "_cell_guid": "b1076dfc-b9ad-4769-8c92-a6c4dae69d19",
    "_uuid": "8f2839f25d086af736a60e9eeb907d3b93b6e0e5",
    "execution": {
     "iopub.execute_input": "2022-08-04T05:30:16.418007Z",
     "iopub.status.busy": "2022-08-04T05:30:16.416509Z",
     "iopub.status.idle": "2022-08-04T05:30:21.845454Z",
     "shell.execute_reply": "2022-08-04T05:30:21.844797Z",
     "shell.execute_reply.started": "2022-02-28T06:36:13.657187Z"
    },
    "papermill": {
     "duration": 5.448158,
     "end_time": "2022-08-04T05:30:21.845606",
     "exception": false,
     "start_time": "2022-08-04T05:30:16.397448",
     "status": "completed"
    },
    "tags": []
   },
   "outputs": [],
   "source": [
    "import tensorflow as tf\n",
    "import pandas as pd\n",
    "import numpy as np\n",
    "import os\n",
    "import matplotlib.pyplot as plt\n",
    "import warnings\n",
    "warnings.filterwarnings(\"ignore\")\n",
    "from tensorflow.keras import layers\n",
    "from tensorflow.keras.preprocessing.image import ImageDataGenerator\n",
    "AUTOTUNE = tf.data.experimental.AUTOTUNE"
   ]
  },
  {
   "cell_type": "code",
   "execution_count": 2,
   "id": "f7e5643b",
   "metadata": {
    "execution": {
     "iopub.execute_input": "2022-08-04T05:30:21.883746Z",
     "iopub.status.busy": "2022-08-04T05:30:21.883116Z",
     "iopub.status.idle": "2022-08-04T05:30:21.885699Z",
     "shell.execute_reply": "2022-08-04T05:30:21.885314Z",
     "shell.execute_reply.started": "2022-02-28T06:36:29.466823Z"
    },
    "papermill": {
     "duration": 0.021981,
     "end_time": "2022-08-04T05:30:21.885835",
     "exception": false,
     "start_time": "2022-08-04T05:30:21.863854",
     "status": "completed"
    },
    "tags": []
   },
   "outputs": [],
   "source": [
    "labels = {\n",
    "    0: \"buildings\",\n",
    "    1: \"forest\",\n",
    "    2: \"glacier\",\n",
    "    3: \"mountain\",\n",
    "    4: \"sea\",\n",
    "    5: \"street\"\n",
    "}"
   ]
  },
  {
   "cell_type": "code",
   "execution_count": 3,
   "id": "b0032b9e",
   "metadata": {
    "execution": {
     "iopub.execute_input": "2022-08-04T05:30:21.917171Z",
     "iopub.status.busy": "2022-08-04T05:30:21.916554Z",
     "iopub.status.idle": "2022-08-04T05:30:21.918844Z",
     "shell.execute_reply": "2022-08-04T05:30:21.919222Z",
     "shell.execute_reply.started": "2022-02-27T18:57:00.978641Z"
    },
    "papermill": {
     "duration": 0.019476,
     "end_time": "2022-08-04T05:30:21.919353",
     "exception": false,
     "start_time": "2022-08-04T05:30:21.899877",
     "status": "completed"
    },
    "tags": []
   },
   "outputs": [],
   "source": [
    "# train_path = \"../input/ml-olympiad-landscape-image-classification/train\""
   ]
  },
  {
   "cell_type": "code",
   "execution_count": 4,
   "id": "71845e65",
   "metadata": {
    "execution": {
     "iopub.execute_input": "2022-08-04T05:30:21.951669Z",
     "iopub.status.busy": "2022-08-04T05:30:21.951084Z",
     "iopub.status.idle": "2022-08-04T05:30:21.953734Z",
     "shell.execute_reply": "2022-08-04T05:30:21.953322Z",
     "shell.execute_reply.started": "2022-02-27T18:57:00.992078Z"
    },
    "papermill": {
     "duration": 0.020243,
     "end_time": "2022-08-04T05:30:21.953863",
     "exception": false,
     "start_time": "2022-08-04T05:30:21.933620",
     "status": "completed"
    },
    "tags": []
   },
   "outputs": [],
   "source": [
    "# train_datagen = ImageDataGenerator(\n",
    "#         rescale = 1/255.0,\n",
    "#         rotation_range=20,\n",
    "#         zoom_range=0.05,\n",
    "#         width_shift_range=0.05,\n",
    "#         height_shift_range=0.05,\n",
    "#         shear_range=0.05,\n",
    "#         horizontal_flip=True,\n",
    "#         fill_mode=\"nearest\",\n",
    "#         validation_split=0.20)\n",
    "\n",
    "# # test_datagen = ImageDataGenerator(rescale = 1/255.0)"
   ]
  },
  {
   "cell_type": "code",
   "execution_count": 5,
   "id": "b1a7ed41",
   "metadata": {
    "execution": {
     "iopub.execute_input": "2022-08-04T05:30:21.997650Z",
     "iopub.status.busy": "2022-08-04T05:30:21.996945Z",
     "iopub.status.idle": "2022-08-04T05:30:22.000295Z",
     "shell.execute_reply": "2022-08-04T05:30:21.999861Z",
     "shell.execute_reply.started": "2022-02-27T18:57:00.999025Z"
    },
    "papermill": {
     "duration": 0.029986,
     "end_time": "2022-08-04T05:30:22.000428",
     "exception": false,
     "start_time": "2022-08-04T05:30:21.970442",
     "status": "completed"
    },
    "tags": []
   },
   "outputs": [],
   "source": [
    "# train_generator = train_datagen.flow_from_directory(\n",
    "#     directory=train_path,\n",
    "#     target_size=(256, 256),\n",
    "#     color_mode=\"rgb\",\n",
    "#     batch_size=32,\n",
    "#     class_mode=\"categorical\",\n",
    "#     subset='training',\n",
    "#     shuffle=True,\n",
    "#     seed=42\n",
    "# )\n",
    "\n",
    "# val_generator = train_datagen.flow_from_directory(\n",
    "#     directory=train_path,\n",
    "#     target_size=(100, 100),\n",
    "#     color_mode=\"rgb\",\n",
    "#     batch_size=32,\n",
    "#     class_mode=\"categorical\",\n",
    "#     subset='validation',\n",
    "#     shuffle=True,\n",
    "#     seed=42\n",
    "# )"
   ]
  },
  {
   "cell_type": "code",
   "execution_count": 6,
   "id": "1fafa5e1",
   "metadata": {
    "execution": {
     "iopub.execute_input": "2022-08-04T05:30:22.036620Z",
     "iopub.status.busy": "2022-08-04T05:30:22.035716Z",
     "iopub.status.idle": "2022-08-04T05:30:34.458007Z",
     "shell.execute_reply": "2022-08-04T05:30:34.458422Z",
     "shell.execute_reply.started": "2022-02-28T06:37:09.457128Z"
    },
    "papermill": {
     "duration": 12.441747,
     "end_time": "2022-08-04T05:30:34.458582",
     "exception": false,
     "start_time": "2022-08-04T05:30:22.016835",
     "status": "completed"
    },
    "tags": []
   },
   "outputs": [
    {
     "name": "stdout",
     "output_type": "stream",
     "text": [
      "Found 14034 files belonging to 6 classes.\n",
      "Using 11228 files for training.\n"
     ]
    },
    {
     "name": "stderr",
     "output_type": "stream",
     "text": [
      "2022-08-04 05:30:28.679431: I tensorflow/stream_executor/cuda/cuda_gpu_executor.cc:937] successful NUMA node read from SysFS had negative value (-1), but there must be at least one NUMA node, so returning NUMA node zero\n",
      "2022-08-04 05:30:28.810523: I tensorflow/stream_executor/cuda/cuda_gpu_executor.cc:937] successful NUMA node read from SysFS had negative value (-1), but there must be at least one NUMA node, so returning NUMA node zero\n",
      "2022-08-04 05:30:28.811326: I tensorflow/stream_executor/cuda/cuda_gpu_executor.cc:937] successful NUMA node read from SysFS had negative value (-1), but there must be at least one NUMA node, so returning NUMA node zero\n",
      "2022-08-04 05:30:28.814059: I tensorflow/core/platform/cpu_feature_guard.cc:142] This TensorFlow binary is optimized with oneAPI Deep Neural Network Library (oneDNN) to use the following CPU instructions in performance-critical operations:  AVX2 AVX512F FMA\n",
      "To enable them in other operations, rebuild TensorFlow with the appropriate compiler flags.\n",
      "2022-08-04 05:30:28.815050: I tensorflow/stream_executor/cuda/cuda_gpu_executor.cc:937] successful NUMA node read from SysFS had negative value (-1), but there must be at least one NUMA node, so returning NUMA node zero\n",
      "2022-08-04 05:30:28.815744: I tensorflow/stream_executor/cuda/cuda_gpu_executor.cc:937] successful NUMA node read from SysFS had negative value (-1), but there must be at least one NUMA node, so returning NUMA node zero\n",
      "2022-08-04 05:30:28.816421: I tensorflow/stream_executor/cuda/cuda_gpu_executor.cc:937] successful NUMA node read from SysFS had negative value (-1), but there must be at least one NUMA node, so returning NUMA node zero\n",
      "2022-08-04 05:30:31.068910: I tensorflow/stream_executor/cuda/cuda_gpu_executor.cc:937] successful NUMA node read from SysFS had negative value (-1), but there must be at least one NUMA node, so returning NUMA node zero\n",
      "2022-08-04 05:30:31.069701: I tensorflow/stream_executor/cuda/cuda_gpu_executor.cc:937] successful NUMA node read from SysFS had negative value (-1), but there must be at least one NUMA node, so returning NUMA node zero\n",
      "2022-08-04 05:30:31.070407: I tensorflow/stream_executor/cuda/cuda_gpu_executor.cc:937] successful NUMA node read from SysFS had negative value (-1), but there must be at least one NUMA node, so returning NUMA node zero\n",
      "2022-08-04 05:30:31.071014: I tensorflow/core/common_runtime/gpu/gpu_device.cc:1510] Created device /job:localhost/replica:0/task:0/device:GPU:0 with 15403 MB memory:  -> device: 0, name: Tesla P100-PCIE-16GB, pci bus id: 0000:00:04.0, compute capability: 6.0\n"
     ]
    },
    {
     "name": "stdout",
     "output_type": "stream",
     "text": [
      "Found 14034 files belonging to 6 classes.\n",
      "Using 2806 files for validation.\n"
     ]
    }
   ],
   "source": [
    "train_ds = tf.keras.preprocessing.image_dataset_from_directory(\n",
    "    directory='../input/ml-olympiad-landscape-image-classification/train',\n",
    "    labels='inferred',\n",
    "    label_mode='categorical',\n",
    "    batch_size=64,\n",
    "    image_size=(256, 256),\n",
    "    validation_split=0.2,\n",
    "    subset=\"training\",\n",
    "    seed=1024\n",
    ")\n",
    "\n",
    "val_ds = tf.keras.preprocessing.image_dataset_from_directory(\n",
    "    directory='../input/ml-olympiad-landscape-image-classification/train',\n",
    "    labels='inferred',\n",
    "    label_mode='categorical',\n",
    "    batch_size=64,\n",
    "    image_size=(256, 256),\n",
    "    validation_split=0.2,\n",
    "    subset=\"validation\",\n",
    "    seed=1024\n",
    ")"
   ]
  },
  {
   "cell_type": "code",
   "execution_count": 7,
   "id": "6d977012",
   "metadata": {
    "execution": {
     "iopub.execute_input": "2022-08-04T05:30:34.493690Z",
     "iopub.status.busy": "2022-08-04T05:30:34.492859Z",
     "iopub.status.idle": "2022-08-04T05:30:34.497707Z",
     "shell.execute_reply": "2022-08-04T05:30:34.497314Z",
     "shell.execute_reply.started": "2022-02-28T06:37:31.341913Z"
    },
    "papermill": {
     "duration": 0.023105,
     "end_time": "2022-08-04T05:30:34.497846",
     "exception": false,
     "start_time": "2022-08-04T05:30:34.474741",
     "status": "completed"
    },
    "tags": []
   },
   "outputs": [],
   "source": [
    "from tensorflow.keras.applications import EfficientNetB7"
   ]
  },
  {
   "cell_type": "code",
   "execution_count": 8,
   "id": "2e69a564",
   "metadata": {
    "execution": {
     "iopub.execute_input": "2022-08-04T05:30:34.536888Z",
     "iopub.status.busy": "2022-08-04T05:30:34.536344Z",
     "iopub.status.idle": "2022-08-04T05:30:43.045251Z",
     "shell.execute_reply": "2022-08-04T05:30:43.044722Z",
     "shell.execute_reply.started": "2022-02-28T06:37:31.347984Z"
    },
    "papermill": {
     "duration": 8.529718,
     "end_time": "2022-08-04T05:30:43.045390",
     "exception": false,
     "start_time": "2022-08-04T05:30:34.515672",
     "status": "completed"
    },
    "tags": []
   },
   "outputs": [
    {
     "name": "stdout",
     "output_type": "stream",
     "text": [
      "Downloading data from https://storage.googleapis.com/keras-applications/efficientnetb7_notop.h5\n",
      "258080768/258076736 [==============================] - 3s 0us/step\n",
      "258088960/258076736 [==============================] - 3s 0us/step\n"
     ]
    }
   ],
   "source": [
    "base_model = EfficientNetB7(\n",
    "    input_shape=(256,256,3),\n",
    "    include_top=False,\n",
    "    weights=\"imagenet\")"
   ]
  },
  {
   "cell_type": "code",
   "execution_count": 9,
   "id": "f3f46e6d",
   "metadata": {
    "execution": {
     "iopub.execute_input": "2022-08-04T05:30:43.122138Z",
     "iopub.status.busy": "2022-08-04T05:30:43.120890Z",
     "iopub.status.idle": "2022-08-04T05:30:43.125133Z",
     "shell.execute_reply": "2022-08-04T05:30:43.125505Z",
     "shell.execute_reply.started": "2022-02-28T06:37:41.439065Z"
    },
    "papermill": {
     "duration": 0.053884,
     "end_time": "2022-08-04T05:30:43.125635",
     "exception": false,
     "start_time": "2022-08-04T05:30:43.071751",
     "status": "completed"
    },
    "tags": []
   },
   "outputs": [],
   "source": [
    "base_model.trainable = True"
   ]
  },
  {
   "cell_type": "code",
   "execution_count": 10,
   "id": "a470c7e7",
   "metadata": {
    "execution": {
     "iopub.execute_input": "2022-08-04T05:30:43.191510Z",
     "iopub.status.busy": "2022-08-04T05:30:43.190923Z",
     "iopub.status.idle": "2022-08-04T05:30:43.193250Z",
     "shell.execute_reply": "2022-08-04T05:30:43.193644Z",
     "shell.execute_reply.started": "2022-02-28T06:37:41.471639Z"
    },
    "papermill": {
     "duration": 0.042209,
     "end_time": "2022-08-04T05:30:43.193762",
     "exception": false,
     "start_time": "2022-08-04T05:30:43.151553",
     "status": "completed"
    },
    "tags": []
   },
   "outputs": [],
   "source": [
    "for layer in base_model.layers[:400]:\n",
    "  layer.trainable =  False"
   ]
  },
  {
   "cell_type": "code",
   "execution_count": 11,
   "id": "17ff4c37",
   "metadata": {
    "execution": {
     "iopub.execute_input": "2022-08-04T05:30:43.251029Z",
     "iopub.status.busy": "2022-08-04T05:30:43.250304Z",
     "iopub.status.idle": "2022-08-04T05:30:43.252382Z",
     "shell.execute_reply": "2022-08-04T05:30:43.252783Z",
     "shell.execute_reply.started": "2022-02-28T06:44:35.877584Z"
    },
    "papermill": {
     "duration": 0.033279,
     "end_time": "2022-08-04T05:30:43.252919",
     "exception": false,
     "start_time": "2022-08-04T05:30:43.219640",
     "status": "completed"
    },
    "tags": []
   },
   "outputs": [],
   "source": [
    "def create_model():\n",
    "    model = tf.keras.Sequential([base_model,\n",
    "    layers.RandomFlip(\"horizontal_and_vertical\"),\n",
    "    layers.RandomRotation(0.2),\n",
    "    layers.GlobalAveragePooling2D(),\n",
    "    layers.Dense(64, activation=\"elu\"),\n",
    "    layers.Dense(32, activation=\"elu\"),\n",
    "    layers.Dense(16, activation=\"elu\"),\n",
    "    layers.Dense(6, activation=\"softmax\")], name='convnet')\n",
    "    \n",
    "    return model"
   ]
  },
  {
   "cell_type": "code",
   "execution_count": 12,
   "id": "fd2e81b4",
   "metadata": {
    "execution": {
     "iopub.execute_input": "2022-08-04T05:30:43.308481Z",
     "iopub.status.busy": "2022-08-04T05:30:43.307993Z",
     "iopub.status.idle": "2022-08-04T05:30:45.291696Z",
     "shell.execute_reply": "2022-08-04T05:30:45.291149Z",
     "shell.execute_reply.started": "2022-02-28T06:44:47.222604Z"
    },
    "papermill": {
     "duration": 2.01319,
     "end_time": "2022-08-04T05:30:45.291838",
     "exception": false,
     "start_time": "2022-08-04T05:30:43.278648",
     "status": "completed"
    },
    "tags": []
   },
   "outputs": [],
   "source": [
    "model = create_model()\n",
    "\n",
    "optimizer = tf.keras.optimizers.Adam()"
   ]
  },
  {
   "cell_type": "code",
   "execution_count": 13,
   "id": "77c28e96",
   "metadata": {
    "execution": {
     "iopub.execute_input": "2022-08-04T05:30:45.351211Z",
     "iopub.status.busy": "2022-08-04T05:30:45.350458Z",
     "iopub.status.idle": "2022-08-04T05:30:45.368600Z",
     "shell.execute_reply": "2022-08-04T05:30:45.368190Z"
    },
    "papermill": {
     "duration": 0.04874,
     "end_time": "2022-08-04T05:30:45.368713",
     "exception": false,
     "start_time": "2022-08-04T05:30:45.319973",
     "status": "completed"
    },
    "tags": []
   },
   "outputs": [],
   "source": [
    "model.compile(optimizer=tf.keras.optimizers.Adam(lr=0.0001/10),loss='categorical_crossentropy',metrics=['accuracy'])"
   ]
  },
  {
   "cell_type": "code",
   "execution_count": 14,
   "id": "98e62c1a",
   "metadata": {
    "execution": {
     "iopub.execute_input": "2022-08-04T05:30:45.427081Z",
     "iopub.status.busy": "2022-08-04T05:30:45.426115Z",
     "iopub.status.idle": "2022-08-04T05:30:45.429745Z",
     "shell.execute_reply": "2022-08-04T05:30:45.429349Z",
     "shell.execute_reply.started": "2022-02-27T20:14:22.432436Z"
    },
    "papermill": {
     "duration": 0.034445,
     "end_time": "2022-08-04T05:30:45.429881",
     "exception": false,
     "start_time": "2022-08-04T05:30:45.395436",
     "status": "completed"
    },
    "tags": []
   },
   "outputs": [],
   "source": [
    "from tensorflow.keras.callbacks import EarlyStopping, ReduceLROnPlateau\n",
    "es = EarlyStopping(monitor='val_accuracy', mode='max', patience=5,  restore_best_weights=True)  \n",
    "reduce_lr = ReduceLROnPlateau(monitor='val_loss', factor=0.2,\n",
    "                              patience=5, min_lr=(0.0001/10)/100000)\n"
   ]
  },
  {
   "cell_type": "code",
   "execution_count": 15,
   "id": "92d202b2",
   "metadata": {
    "execution": {
     "iopub.execute_input": "2022-08-04T05:30:45.494672Z",
     "iopub.status.busy": "2022-08-04T05:30:45.493956Z",
     "iopub.status.idle": "2022-08-04T05:30:45.521744Z",
     "shell.execute_reply": "2022-08-04T05:30:45.522195Z",
     "shell.execute_reply.started": "2022-02-27T20:14:22.439101Z"
    },
    "papermill": {
     "duration": 0.066683,
     "end_time": "2022-08-04T05:30:45.522344",
     "exception": false,
     "start_time": "2022-08-04T05:30:45.455661",
     "status": "completed"
    },
    "tags": []
   },
   "outputs": [
    {
     "name": "stdout",
     "output_type": "stream",
     "text": [
      "Model: \"convnet\"\n",
      "_________________________________________________________________\n",
      "Layer (type)                 Output Shape              Param #   \n",
      "=================================================================\n",
      "efficientnetb7 (Functional)  (None, 8, 8, 2560)        64097687  \n",
      "_________________________________________________________________\n",
      "random_flip (RandomFlip)     (None, 8, 8, 2560)        0         \n",
      "_________________________________________________________________\n",
      "random_rotation (RandomRotat (None, 8, 8, 2560)        0         \n",
      "_________________________________________________________________\n",
      "global_average_pooling2d (Gl (None, 2560)              0         \n",
      "_________________________________________________________________\n",
      "dense (Dense)                (None, 64)                163904    \n",
      "_________________________________________________________________\n",
      "dense_1 (Dense)              (None, 32)                2080      \n",
      "_________________________________________________________________\n",
      "dense_2 (Dense)              (None, 16)                528       \n",
      "_________________________________________________________________\n",
      "dense_3 (Dense)              (None, 6)                 102       \n",
      "=================================================================\n",
      "Total params: 64,264,301\n",
      "Trainable params: 59,481,366\n",
      "Non-trainable params: 4,782,935\n",
      "_________________________________________________________________\n"
     ]
    }
   ],
   "source": [
    "model.summary()"
   ]
  },
  {
   "cell_type": "code",
   "execution_count": 16,
   "id": "4b7f4c51",
   "metadata": {
    "execution": {
     "iopub.execute_input": "2022-08-04T05:30:45.583510Z",
     "iopub.status.busy": "2022-08-04T05:30:45.582896Z",
     "iopub.status.idle": "2022-08-04T06:08:44.431096Z",
     "shell.execute_reply": "2022-08-04T06:08:44.430455Z"
    },
    "papermill": {
     "duration": 2278.882571,
     "end_time": "2022-08-04T06:08:44.431258",
     "exception": false,
     "start_time": "2022-08-04T05:30:45.548687",
     "status": "completed"
    },
    "tags": []
   },
   "outputs": [
    {
     "name": "stdout",
     "output_type": "stream",
     "text": [
      "Epoch 1/10\n"
     ]
    },
    {
     "name": "stderr",
     "output_type": "stream",
     "text": [
      "2022-08-04 05:31:02.585166: I tensorflow/compiler/mlir/mlir_graph_optimization_pass.cc:185] None of the MLIR Optimization Passes are enabled (registered 2)\n",
      "2022-08-04 05:31:10.388306: I tensorflow/stream_executor/cuda/cuda_dnn.cc:369] Loaded cuDNN version 8005\n",
      "2022-08-04 05:31:16.856882: W tensorflow/core/common_runtime/bfc_allocator.cc:272] Allocator (GPU_0_bfc) ran out of memory trying to allocate 3.62GiB with freed_by_count=0. The caller indicates that this is not a failure, but may mean that there could be performance gains if more memory were available.\n",
      "2022-08-04 05:31:16.888490: I tensorflow/core/util/cuda_solvers.cc:180] Creating CudaSolver handles for stream 0x55fb677e5480\n",
      "2022-08-04 05:31:19.026408: W tensorflow/core/common_runtime/bfc_allocator.cc:272] Allocator (GPU_0_bfc) ran out of memory trying to allocate 3.57GiB with freed_by_count=0. The caller indicates that this is not a failure, but may mean that there could be performance gains if more memory were available.\n",
      "2022-08-04 05:31:19.045264: W tensorflow/core/common_runtime/bfc_allocator.cc:272] Allocator (GPU_0_bfc) ran out of memory trying to allocate 3.89GiB with freed_by_count=0. The caller indicates that this is not a failure, but may mean that there could be performance gains if more memory were available.\n"
     ]
    },
    {
     "name": "stdout",
     "output_type": "stream",
     "text": [
      "175/176 [============================>.] - ETA: 1s - loss: 1.3161 - accuracy: 0.5669"
     ]
    },
    {
     "name": "stderr",
     "output_type": "stream",
     "text": [
      "2022-08-04 05:34:30.283909: W tensorflow/core/common_runtime/bfc_allocator.cc:272] Allocator (GPU_0_bfc) ran out of memory trying to allocate 3.32GiB with freed_by_count=0. The caller indicates that this is not a failure, but may mean that there could be performance gains if more memory were available.\n",
      "2022-08-04 05:34:30.367251: W tensorflow/core/common_runtime/bfc_allocator.cc:272] Allocator (GPU_0_bfc) ran out of memory trying to allocate 3.58GiB with freed_by_count=0. The caller indicates that this is not a failure, but may mean that there could be performance gains if more memory were available.\n",
      "2022-08-04 05:34:30.384360: W tensorflow/core/common_runtime/bfc_allocator.cc:272] Allocator (GPU_0_bfc) ran out of memory trying to allocate 3.55GiB with freed_by_count=0. The caller indicates that this is not a failure, but may mean that there could be performance gains if more memory were available.\n",
      "2022-08-04 05:34:30.391251: W tensorflow/core/common_runtime/bfc_allocator.cc:272] Allocator (GPU_0_bfc) ran out of memory trying to allocate 3.69GiB with freed_by_count=0. The caller indicates that this is not a failure, but may mean that there could be performance gains if more memory were available.\n"
     ]
    },
    {
     "name": "stdout",
     "output_type": "stream",
     "text": [
      "176/176 [==============================] - 256s 1s/step - loss: 1.3152 - accuracy: 0.5675 - val_loss: 0.9562 - val_accuracy: 0.7448\n",
      "Epoch 2/10\n",
      "176/176 [==============================] - 218s 1s/step - loss: 0.6929 - accuracy: 0.8269 - val_loss: 0.5461 - val_accuracy: 0.8553\n",
      "Epoch 3/10\n",
      "176/176 [==============================] - 211s 1s/step - loss: 0.4460 - accuracy: 0.8814 - val_loss: 0.4188 - val_accuracy: 0.8810\n",
      "Epoch 4/10\n",
      "176/176 [==============================] - 211s 1s/step - loss: 0.3309 - accuracy: 0.9079 - val_loss: 0.3676 - val_accuracy: 0.8913\n",
      "Epoch 5/10\n",
      "176/176 [==============================] - 209s 1s/step - loss: 0.2656 - accuracy: 0.9247 - val_loss: 0.3426 - val_accuracy: 0.8956\n",
      "Epoch 6/10\n",
      "176/176 [==============================] - 211s 1s/step - loss: 0.2124 - accuracy: 0.9380 - val_loss: 0.3261 - val_accuracy: 0.8991\n",
      "Epoch 7/10\n",
      "176/176 [==============================] - 212s 1s/step - loss: 0.1705 - accuracy: 0.9561 - val_loss: 0.3211 - val_accuracy: 0.9027\n",
      "Epoch 8/10\n",
      "176/176 [==============================] - 217s 1s/step - loss: 0.1440 - accuracy: 0.9628 - val_loss: 0.3142 - val_accuracy: 0.9045\n",
      "Epoch 9/10\n",
      "176/176 [==============================] - 218s 1s/step - loss: 0.1194 - accuracy: 0.9689 - val_loss: 0.3166 - val_accuracy: 0.9048\n",
      "Epoch 10/10\n",
      "176/176 [==============================] - 217s 1s/step - loss: 0.1008 - accuracy: 0.9746 - val_loss: 0.3192 - val_accuracy: 0.9070\n"
     ]
    },
    {
     "data": {
      "text/plain": [
       "<keras.callbacks.History at 0x7f3d30b2bd10>"
      ]
     },
     "execution_count": 16,
     "metadata": {},
     "output_type": "execute_result"
    }
   ],
   "source": [
    "model.fit(train_ds, epochs=10, validation_data=val_ds, callbacks=[es, reduce_lr], verbose=1)"
   ]
  },
  {
   "cell_type": "code",
   "execution_count": 17,
   "id": "4ca298dd",
   "metadata": {
    "execution": {
     "iopub.execute_input": "2022-08-04T06:08:45.618165Z",
     "iopub.status.busy": "2022-08-04T06:08:45.617485Z",
     "iopub.status.idle": "2022-08-04T06:12:53.073522Z",
     "shell.execute_reply": "2022-08-04T06:12:53.072873Z",
     "shell.execute_reply.started": "2022-02-27T19:43:14.349941Z"
    },
    "papermill": {
     "duration": 248.023208,
     "end_time": "2022-08-04T06:12:53.073675",
     "exception": false,
     "start_time": "2022-08-04T06:08:45.050467",
     "status": "completed"
    },
    "tags": []
   },
   "outputs": [],
   "source": [
    "test_image_names = os.listdir('../input/ml-olympiad-landscape-image-classification/test')\n",
    "\n",
    "label = []\n",
    "\n",
    "for image_path in test_image_names:\n",
    "    image_array = tf.keras.preprocessing.image.img_to_array(\n",
    "                      tf.keras.preprocessing.image.load_img(\n",
    "                          os.path.join('../input/ml-olympiad-landscape-image-classification/test', image_path)\n",
    "                            )\n",
    "    )\n",
    "    image_array_with_batchdim = image_array[np.newaxis, :]\n",
    "    \n",
    "    model_prediction = np.argmax(model.predict(image_array_with_batchdim), axis=-1)[0]\n",
    "    \n",
    "    label.append(labels[model_prediction])"
   ]
  },
  {
   "cell_type": "code",
   "execution_count": 18,
   "id": "ea88c208",
   "metadata": {
    "execution": {
     "iopub.execute_input": "2022-08-04T06:12:54.406239Z",
     "iopub.status.busy": "2022-08-04T06:12:54.405387Z",
     "iopub.status.idle": "2022-08-04T06:12:54.413960Z",
     "shell.execute_reply": "2022-08-04T06:12:54.413464Z",
     "shell.execute_reply.started": "2022-02-27T19:43:14.351729Z"
    },
    "papermill": {
     "duration": 0.557293,
     "end_time": "2022-08-04T06:12:54.414089",
     "exception": false,
     "start_time": "2022-08-04T06:12:53.856796",
     "status": "completed"
    },
    "tags": []
   },
   "outputs": [],
   "source": [
    "df = pd.DataFrame(data={\n",
    "    \"image\": test_image_names,\n",
    "    \"label\": label\n",
    "})\n",
    "\n",
    "df.to_csv(\"submission.csv\", index=False)"
   ]
  }
 ],
 "metadata": {
  "kernelspec": {
   "display_name": "Python 3",
   "language": "python",
   "name": "python3"
  },
  "language_info": {
   "codemirror_mode": {
    "name": "ipython",
    "version": 3
   },
   "file_extension": ".py",
   "mimetype": "text/x-python",
   "name": "python",
   "nbconvert_exporter": "python",
   "pygments_lexer": "ipython3",
   "version": "3.7.12"
  },
  "papermill": {
   "default_parameters": {},
   "duration": 2569.835905,
   "end_time": "2022-08-04T06:12:58.275117",
   "environment_variables": {},
   "exception": null,
   "input_path": "__notebook__.ipynb",
   "output_path": "__notebook__.ipynb",
   "parameters": {},
   "start_time": "2022-08-04T05:30:08.439212",
   "version": "2.3.3"
  }
 },
 "nbformat": 4,
 "nbformat_minor": 5
}
